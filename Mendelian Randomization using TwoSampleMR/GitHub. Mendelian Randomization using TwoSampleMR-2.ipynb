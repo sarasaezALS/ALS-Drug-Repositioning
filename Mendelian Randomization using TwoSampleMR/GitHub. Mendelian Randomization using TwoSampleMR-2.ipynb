{
 "cells": [
  {
   "cell_type": "code",
   "execution_count": null,
   "id": "501535d5",
   "metadata": {},
   "outputs": [],
   "source": [
    "\n",
    "# Mendelian Randomization using TwoSampleMR\n",
    "***"
   ]
  },
  {
   "cell_type": "code",
   "execution_count": 3,
   "id": "17b69831",
   "metadata": {},
   "outputs": [],
   "source": [
    "from datetime import date\n",
    "today = date.today()\n",
    "date= today.strftime(\"%B %d, %Y\")\n",
    "import getpass\n",
    "import os\n",
    "cwd = os.getcwd()"
   ]
  },
  {
   "cell_type": "code",
   "execution_count": 4,
   "id": "73a3ea53",
   "metadata": {},
   "outputs": [
    {
     "name": "stdout",
     "output_type": "stream",
     "text": [
      "Date:  March 20, 2023\n",
      "\n",
      "Analysed by:  saezs\n",
      "\n",
      "Current working directory: /vf/users/ALS_50k/SaraSaez_ALS/2022_01_06.ALS.DrugsRepositioning\n",
      "\n"
     ]
    }
   ],
   "source": [
    "print(\"Date: \", date)\n",
    "print(\"\")\n",
    "print(\"Analysed by: \", getpass.getuser())\n",
    "print(\"\")\n",
    "print(\"Current working directory: {0}\".format(cwd))\n",
    "print(\"\")"
   ]
  },
  {
   "cell_type": "markdown",
   "id": "59c07f8c",
   "metadata": {},
   "source": [
    "\n",
    "\n",
    "# Workflow\n",
    "\n",
    "***\n",
    "\n",
    "\n",
    "<b>  (1) Prepare a list of the traits related to hypertension to be analyzed </b>  (hypertension.2sampleMR.txt) \n",
    "   \n",
    "       \n",
    "<br> (2) Perform Mendelian Randomization using TwoSampleMR </b>\n"
   ]
  },
  {
   "cell_type": "code",
   "execution_count": 11,
   "id": "d9639d6f",
   "metadata": {},
   "outputs": [],
   "source": [
    "%%bash\n",
    "cd /data/ALS_50k/SaraSaez_ALS/2022_01_06.ALS.DrugsRepositioning\n",
    "\n",
    "echo \"id\n",
    "finn-b-I9_HYPTENSESS_EXNONE\n",
    "finn-b-I9_HYPTENSESS\n",
    "finn-b-I9_HYPTENS_EXNONE\n",
    "finn-b-I9_HYPTENSEC_EXNONE\n",
    "finn-b-I9_HYPTENSPREG\n",
    "finn-b-O15_GESTAT_OEDEM_PREINUR\n",
    "finn-b-G6_BENINTRAHYP\n",
    "finn-b-I9_HYPTENSEC\n",
    "finn-b-O15_PREECLAMPS_CHRONIC_HYPERT\n",
    "finn-b-O15_GESTAT_HYPERT\n",
    "finn-b-I9_HYPTENSPUL_EXNONE\n",
    "finn-b-I9_HYPTENSPUL\n",
    "ukb-e-401_AFR\n",
    "ukb-e-401_CSA\n",
    "ukb-e-401_EAS\n",
    "ukb-e-401_MID\n",
    "ebi-a-GCST008036\n",
    "ukb-b-16587\n",
    "ukb-b-13535\n",
    "ukb-b-12493\n",
    "ukb-b-7582\n",
    "ukb-b-14057\n",
    "ukb-d-I9_HYPTENS\n",
    "ukb-a-531\n",
    "ukb-a-61\n",
    "ukb-b-14177\n",
    "ukb-b-18167\n",
    "ukb-b-19456\n",
    "ukb-b-8746\n",
    "ukb-a-437\n",
    "ukb-a-215\n",
    "ukb-a-207\n",
    "ukb-a-222\n",
    "ukb-b-1061\" > hypertension.2sampleMR.txt"
   ]
  },
  {
   "cell_type": "markdown",
   "id": "7b0c588d",
   "metadata": {},
   "source": [
    "# Analysis\n",
    "***"
   ]
  },
  {
   "cell_type": "code",
   "execution_count": null,
   "id": "c0b030bb",
   "metadata": {},
   "outputs": [],
   "source": [
    "%%bash\n",
    "cd /data/ALS_50k/SaraSaez_ALS/2022_01_06.ALS.DrugsRepositioning\n",
    "mkdir Results\n",
    "module load R/4.1.0\n",
    "R --vanilla --no-save\n",
    "#load packages\n",
    "library(data.table)\n",
    "library(TwoSampleMR)\n",
    "library(MRInstruments)\n",
    "library(RadialMR) \n",
    "library(ieugwasr)\n",
    "library(dplyr)\n",
    "library(tidyverse)\n",
    "sessionInfo()\n",
    "#The standard error is actually estimated using bootstrapping which is a stochastic procedure.\n",
    "#this will give a different result each time and also a different p-value as a consequence. \n",
    "#Could ensure reproducibility by setting the same seed at the beginning of the session\n",
    "set.seed(1214) \n",
    "\n",
    "VR <- fread(\"/data/ALS_50k/SaraSaez_ALS/2022_01_06.ALS.DrugsRepositioning/GWAS/ALS_sumstats_EUR_only.txt\", header = T)\n",
    "VR$SNP = VR$rsid\n",
    "VR <- dplyr::select(VR, SNP, effect_allele, other_allele, effect_allele_frequency, beta, standard_error, p_value, N_effective)\n",
    "\n",
    "Out_data = format_data(VR,type=\"outcome\", beta_col = \"beta\", se_col = \"standard_error\", eaf_col = \"effect_allele_frequency\", pval_col = \"p_value\")\n",
    "\n",
    " \n",
    "\n",
    "token <-  \"ya29.A0ARrdaM9H5otEAHugyicLDAsRSkskkRjYgOC0tWvq_RynTztv1u3cDHiXMCq58iZ4EWKGpV8AIT4zKRQ0J0IPyfF7P77JGW38YD7A5ysweNZrys1wwYhBr-poTOBXIZWSu3d1-eWATMxmbZ0EUD1Ey0RAfVbL\"\n",
    "\n",
    "possibleInstruments <- available_outcomes(access_token = token)\n",
    "listOfGwasIds <- read.table(\"hypertension.2sampleMR.txt\", header = T)\n",
    "for(i in 20:20)\n",
    "{\n",
    "  instrumentId <- as.character(listOfGwasIds$id[i])\n",
    "   tag <- paste(\"INSTRUMENT IS \",instrumentId,\" AT i = \",i, sep = \"\")\n",
    " print(tag)\n",
    "flagged <- \"nope\"\n",
    "Exp_data <- extract_instruments(outcomes=instrumentId, p1 = 5e-08, clump = TRUE, p2 = 5e-08,\n",
    "                                  r2 = 0.001, kb = 10000, access_token = token,\n",
    "                                 force_server = TRUE)\n",
    "skip <- ifelse(length(Exp_data$beta.exposure) < 1, 1, 0)\n",
    "if(skip == 0)\n",
    "{\n",
    "dat <- harmonise_data(exposure_dat=Exp_data, outcome_dat=Out_data, action=2)\n",
    "res <-mr(dat)\n",
    " print(res)\n",
    "het <- mr_heterogeneity(dat)\n",
    " print(het)\n",
    "ple <- mr_pleiotropy_test(dat)\n",
    " print(ple)\n",
    "write.table(res, file = paste(instrumentId,\".HY.1res.txt\",sep = \"\"), quote = F, sep = \",\")\n",
    "write.table(het, file = paste(instrumentId,\".HY.2het.txt\",sep = \"\"), quote = F, sep = \",\")\n",
    "write.table(ple, file = paste(instrumentId,\".HY.3ple.txt\",sep = \"\"), quote = F, sep = \",\")\n",
    "res_single <- mr_singlesnp(dat)\n",
    "mr_report(dat)\n",
    "write.table(res_single, file = paste(instrumentId,\"HY.4res.txt\",sep = \"\"), quote = F, sep = \",\")\n",
    " }\n",
    "  else\n",
    "  {\n",
    "    print(\"FAIL\")\n",
    "  }\n",
    "}\n",
    "\n"
   ]
  }
 ],
 "metadata": {
  "kernelspec": {
   "display_name": "python/3.8",
   "language": "python",
   "name": "py3.8"
  },
  "language_info": {
   "codemirror_mode": {
    "name": "ipython",
    "version": 3
   },
   "file_extension": ".py",
   "mimetype": "text/x-python",
   "name": "python",
   "nbconvert_exporter": "python",
   "pygments_lexer": "ipython3",
   "version": "3.8.12"
  },
  "toc": {
   "base_numbering": 1,
   "nav_menu": {},
   "number_sections": true,
   "sideBar": true,
   "skip_h1_title": false,
   "title_cell": "Table of Contents",
   "title_sidebar": "Contents",
   "toc_cell": false,
   "toc_position": {},
   "toc_section_display": true,
   "toc_window_display": false
  }
 },
 "nbformat": 4,
 "nbformat_minor": 5
}
